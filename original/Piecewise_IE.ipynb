{
 "cells": [
  {
   "cell_type": "code",
   "execution_count": 73,
   "metadata": {},
   "outputs": [],
   "source": [
    "import numpy as np\n",
    "import sympy as sp\n",
    "from sympy import zeros,Matrix\n",
    "import matplotlib.pyplot as plt\n",
    "import sys\n",
    "from scipy.integrate import quad\n",
    "from scipy.special import eval_legendre,eval_chebyt\n",
    "from tqdm import tqdm\n",
    "sys.setrecursionlimit(20000)"
   ]
  },
  {
   "cell_type": "code",
   "execution_count": 74,
   "metadata": {},
   "outputs": [],
   "source": [
    "def l(i):\n",
    "    y = sp.Symbol('y')\n",
    "    result = 1\n",
    "    for k in range(n):\n",
    "        if k != i:\n",
    "            result = result*(y - T[i])/(T[i]-T[k])\n",
    "    return result"
   ]
  },
  {
   "cell_type": "code",
   "execution_count": 75,
   "metadata": {},
   "outputs": [],
   "source": [
    "def double_interp_series(matrix_A,pos):\n",
    "    global taylor_series\n",
    "    n_taylor_x = (K* l(pos[1])).subs(x,T[pos[0]])\n",
    "    n_taylor_x_numpy = sp.lambdify(y,n_taylor_x,'numpy')\n",
    "    n_result,_ = quad(n_taylor_x_numpy,begin,end)\n",
    "    matrix_A[pos[0],pos[1]] = n_result\n",
    "    return matrix_A"
   ]
  },
  {
   "cell_type": "code",
   "execution_count": 76,
   "metadata": {},
   "outputs": [],
   "source": [
    "def construct_A(n):\n",
    "    matrix_A = zeros(n)\n",
    "    pos = []\n",
    "    for p in range(0, n):\n",
    "        for q in range(0, n):\n",
    "            pos.append([p,q])\n",
    "    for item in tqdm(pos):\n",
    "        matrix_A = double_interp_series(matrix_A,item)\n",
    "    Lambda_diag = Lambda*np.matrix(np.diag(np.ones(n)))\n",
    "    return Lambda_diag - matrix_A"
   ]
  },
  {
   "cell_type": "markdown",
   "metadata": {},
   "source": [
    "## 主函数\n",
    "本程序通过插值法构造退化核，插值点考虑legendre、hebyshev、等距插值，进而求解第二类Fredholm方程。\n",
    "$$\\lambda f(x) - \\int_a^{b} k(x,y)f(y) dy = g(x)$$"
   ]
  },
  {
   "cell_type": "code",
   "execution_count": 77,
   "metadata": {},
   "outputs": [],
   "source": [
    "x = sp.Symbol('x')   # 定义符号变量\n",
    "y = sp.Symbol('y')"
   ]
  },
  {
   "cell_type": "code",
   "execution_count": 78,
   "metadata": {},
   "outputs": [],
   "source": [
    "# 定义常量，取决于问题求解\n",
    "Lambda = 1   \n",
    "K = sp.exp(x*y)\n",
    "begin = 0\n",
    "end = 1\n",
    "f_origin = 1+0*x\n",
    "# 定义系统变量，可以进行修改\n",
    "n = 30  # 插值点数\n",
    "#type = 'legendre'   # legendre插值\n",
    "#type = 'equal_dist'   # 等距插值\n",
    "type = 'chebyshev'   # chebyshev插值\n",
    "degree = 30  # 多项式最高次项次数\n",
    "# 以下和作图有关\n",
    "tol = 0  # 图片向(begin,end)两侧拉伸的距离"
   ]
  },
  {
   "cell_type": "code",
   "execution_count": 79,
   "metadata": {},
   "outputs": [
    {
     "name": "stdout",
     "output_type": "stream",
     "text": [
      "calculate g\n"
     ]
    },
    {
     "data": {
      "text/plain": "1 - Piecewise((exp(x)/x - 1/x, (x > -oo) & (x < oo) & Ne(x, 0)), (1, True))",
      "text/latex": "$\\displaystyle 1 - \\begin{cases} \\frac{e^{x}}{x} - \\frac{1}{x} & \\text{for}\\: x > -\\infty \\wedge x < \\infty \\wedge x \\neq 0 \\\\1 & \\text{otherwise} \\end{cases}$"
     },
     "execution_count": 79,
     "metadata": {},
     "output_type": "execute_result"
    }
   ],
   "source": [
    "g = Lambda*f_origin-(K*f_origin.subs(x,y)).integrate((y,begin,end))\n",
    "print(f\"calculate g\")\n",
    "g"
   ]
  },
  {
   "cell_type": "code",
   "execution_count": 80,
   "metadata": {},
   "outputs": [],
   "source": [
    "X = np.linspace(begin,end,n)\n",
    "if type == 'legendre':\n",
    "    T = eval_legendre(degree,X)\n",
    "elif type == 'chebyshev':   \n",
    "    T = eval_chebyt(degree,X)\n",
    "elif type == 'equal_dist':\n",
    "    T = X"
   ]
  },
  {
   "cell_type": "code",
   "execution_count": 81,
   "metadata": {},
   "outputs": [
    {
     "name": "stderr",
     "output_type": "stream",
     "text": [
      "100%|██████████| 900/900 [00:53<00:00, 16.88it/s]\n"
     ]
    }
   ],
   "source": [
    "# 计算矩阵A\n",
    "A_n = construct_A(n)"
   ]
  },
  {
   "cell_type": "code",
   "execution_count": 82,
   "metadata": {},
   "outputs": [
    {
     "name": "stderr",
     "output_type": "stream",
     "text": [
      "100%|██████████| 30/30 [00:00<00:00, 167.69it/s]\n"
     ]
    }
   ],
   "source": [
    "# 计算得到 c\n",
    "y_ = sp.zeros(n,1)\n",
    "for i in tqdm(range(n)):\n",
    "    g_mod = (g ).subs('y','x')\n",
    "    g_mod_numpy = sp.lambdify(x,g_mod,'numpy')\n",
    "    result,_ = quad(g_mod_numpy,begin,end)\n",
    "    y_[i, 0] = result\n",
    "A_n_acce = np.matrix(A_n).astype(np.float64)\n",
    "A_n_acce_inv = A_n_acce**(-1)\n",
    "A_n_inv = Matrix(A_n_acce_inv)\n",
    "c = A_n_inv*y_"
   ]
  },
  {
   "cell_type": "code",
   "execution_count": 83,
   "metadata": {},
   "outputs": [],
   "source": [
    "result = 0\n",
    "for i in range(n):\n",
    "    result = result + l(i)*c[i,0]\n",
    "f_result = (1/Lambda*(result+g)).subs('y','x')"
   ]
  },
  {
   "cell_type": "code",
   "execution_count": 84,
   "metadata": {},
   "outputs": [
    {
     "name": "stderr",
     "output_type": "stream",
     "text": [
      "100%|██████████| 100/100 [00:09<00:00, 10.09it/s]\n"
     ]
    }
   ],
   "source": [
    "# 得出计算结果 f(x) ，并画图\n",
    "disp_val = []\n",
    "x_begin = begin - tol\n",
    "x_end = end + tol\n",
    "x_list = np.arange(x_begin,x_end,(x_end-x_begin)/100)\n",
    "for i in tqdm(range(len(x_list))):\n",
    "    disp_val.append(f_result.evalf(subs={'x':x_list[i]})) "
   ]
  },
  {
   "cell_type": "code",
   "execution_count": 85,
   "metadata": {},
   "outputs": [
    {
     "data": {
      "text/plain": "<Figure size 432x288 with 1 Axes>",
      "image/png": "[encoded data removed]"
     },
     "metadata": {
      "needs_background": "light"
     },
     "output_type": "display_data"
    }
   ],
   "source": [
    "plt.plot(x_list,np.array(disp_val)-1)\n",
    "plt.plot(x_list,[f_origin.evalf(subs={x,i}) for i in x_list])\n",
    "plt.title('Error of Piecewise Method')\n",
    "plt.show()"
   ]
  }
 ],
 "metadata": {
  "kernelspec": {
   "display_name": "Python 3",
   "language": "python",
   "name": "python3"
  },
  "language_info": {
   "codemirror_mode": {
    "name": "ipython",
    "version": 3
   },
   "file_extension": ".py",
   "mimetype": "text/x-python",
   "name": "python",
   "nbconvert_exporter": "python",
   "pygments_lexer": "ipython3",
   "version": "3.6.10"
  }
 },
 "nbformat": 4,
 "nbformat_minor": 2
}