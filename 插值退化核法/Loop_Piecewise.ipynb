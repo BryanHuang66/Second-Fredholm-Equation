{
 "cells": [
  {
   "cell_type": "code",
   "execution_count": 1,
   "metadata": {},
   "outputs": [],
   "source": [
    "import numpy as np\n",
    "import sympy as sp\n",
    "from sympy import evalf,zeros,Matrix,plotting\n",
    "import matplotlib.pyplot as plt\n",
    "import sys\n",
    "from scipy.integrate import quad\n",
    "from scipy.special import eval_legendre,eval_hermitenorm,eval_chebyt\n",
    "from tqdm import tqdm\n",
    "sys.setrecursionlimit(20000)"
   ]
  },
  {
   "cell_type": "code",
   "execution_count": 2,
   "metadata": {},
   "outputs": [],
   "source": [
    "def l(i,T,n):\n",
    "    y = sp.Symbol('y')\n",
    "    result = 1\n",
    "    for k in range(n):\n",
    "        if k != i:\n",
    "            result = result*(y - T[i])/(T[i]-T[k])\n",
    "    return result"
   ]
  },
  {
   "cell_type": "code",
   "execution_count": 3,
   "metadata": {},
   "outputs": [],
   "source": [
    "def double_interp_series(matrix_A,pos,T,n):\n",
    "    n_taylor_x = (K* l(pos[1],T,n)).subs(x,T[pos[0]])\n",
    "    n_taylor_x_numpy = sp.lambdify(y,n_taylor_x,'numpy')\n",
    "    n_result,_ = quad(n_taylor_x_numpy,begin,end)\n",
    "    matrix_A[pos[0],pos[1]] = n_result\n",
    "    return matrix_A"
   ]
  },
  {
   "cell_type": "code",
   "execution_count": 4,
   "metadata": {},
   "outputs": [],
   "source": [
    "def construct_A(n,T):\n",
    "    matrix_A = zeros(n)\n",
    "    pos = []\n",
    "    for p in range(0, n):\n",
    "        for q in range(0, n):\n",
    "            pos.append([p,q])\n",
    "    for item in tqdm(pos):\n",
    "        matrix_A = double_interp_series(matrix_A,item,T,n)\n",
    "    Lambda_diag = Lambda*np.matrix(np.diag(np.ones(n)))\n",
    "    return Lambda_diag - matrix_A"
   ]
  },
  {
   "cell_type": "code",
   "execution_count": 5,
   "metadata": {},
   "outputs": [],
   "source": [
    "def loop(n):\n",
    "    X = np.linspace(begin,end,n)\n",
    "    if type == 'legendre':\n",
    "        T = eval_legendre(degree,X)\n",
    "    elif type == 'chebyshev':\n",
    "        T = eval_chebyt(degree,X)\n",
    "    elif type == 'equal_dist':\n",
    "        T = X\n",
    "    A_n = construct_A(n,T)\n",
    "    y_ = sp.zeros(n,1)\n",
    "    for i in tqdm(range(n)):\n",
    "        g_mod = (g ).subs('y','x')\n",
    "        g_mod_numpy = sp.lambdify(x,g_mod,'numpy')\n",
    "        result,_ = quad(g_mod_numpy,begin,end)\n",
    "        y_[i, 0] = result\n",
    "    A_n_acce = np.matrix(A_n).astype(np.float64)\n",
    "    A_n_acce_inv = A_n_acce**(-1)\n",
    "    A_n_inv = Matrix(A_n_acce_inv)\n",
    "    c = A_n_inv*y_\n",
    "    result = 0\n",
    "    for i in range(n):\n",
    "        result = result + l(i,T,n)*c[i,0]\n",
    "    f_result = (1/Lambda*(result+g)).subs('y','x')\n",
    "    disp_val = []\n",
    "    tol = 0\n",
    "    x_begin = begin - tol\n",
    "    x_end = end + tol\n",
    "    x_list = np.arange(x_begin,x_end,(x_end-x_begin)/100)\n",
    "    for i in tqdm(range(len(x_list))):\n",
    "        disp_val.append(f_result.evalf(subs={'x':x_list[i]}))\n",
    "    loss = sp.sqrt(np.sum((np.array(disp_val) - 1) ** 2) / n)\n",
    "    return f_result,loss"
   ]
  },
  {
   "cell_type": "markdown",
   "metadata": {},
   "source": [
    "## 主函数\n",
    "本程序通过插值法构造退化核，插值点考虑legendre、hebyshev、等距插值，进而求解第二类Fredholm方程。\n",
    "$$\\lambda f(x) - \\int_a^{b} k(x,y)f(y) dy = g(x)$$"
   ]
  },
  {
   "cell_type": "code",
   "execution_count": 6,
   "metadata": {},
   "outputs": [],
   "source": [
    "x = sp.Symbol('x')   # 定义符号变量\n",
    "y = sp.Symbol('y')"
   ]
  },
  {
   "cell_type": "code",
   "execution_count": 7,
   "metadata": {},
   "outputs": [],
   "source": [
    "Lambda = 1\n",
    "K = sp.exp(x*y)\n",
    "begin = 0\n",
    "end = 1\n",
    "f_origin = 1+0*x\n",
    "start = 20\n",
    "total = 5\n",
    "span = 2\n",
    "type = 'legendre'   # equal_dist, chebyshev\n",
    "# type = 'equal_dist'\n",
    "#type = 'chebyshev'\n",
    "degree = 30  # degree of polynomials"
   ]
  },
  {
   "cell_type": "code",
   "execution_count": 8,
   "metadata": {},
   "outputs": [
    {
     "name": "stdout",
     "output_type": "stream",
     "text": [
      "calculate g\n"
     ]
    },
    {
     "data": {
      "text/latex": [
       "$\\displaystyle 1 - \\begin{cases} \\frac{e^{x}}{x} - \\frac{1}{x} & \\text{for}\\: x > -\\infty \\wedge x < \\infty \\wedge x \\neq 0 \\\\1 & \\text{otherwise} \\end{cases}$"
      ],
      "text/plain": [
       "1 - Piecewise((exp(x)/x - 1/x, (x > -oo) & (x < oo) & Ne(x, 0)), (1, True))"
      ]
     },
     "execution_count": 8,
     "metadata": {},
     "output_type": "execute_result"
    }
   ],
   "source": [
    "g = Lambda*f_origin-(K*f_origin.subs(x,y)).integrate((y,begin,end))\n",
    "print(f\"calculate g\")\n",
    "g"
   ]
  },
  {
   "cell_type": "code",
   "execution_count": 9,
   "metadata": {},
   "outputs": [
    {
     "name": "stderr",
     "output_type": "stream",
     "text": [
      "100%|██████████| 25/25 [00:00<00:00, 88.84it/s]\n",
      "100%|██████████| 5/5 [00:00<00:00, 59.49it/s]\n",
      "100%|██████████| 100/100 [00:01<00:00, 52.54it/s]\n",
      "100%|██████████| 49/49 [00:00<00:00, 130.72it/s]\n",
      "100%|██████████| 7/7 [00:00<00:00, 91.68it/s]\n",
      "100%|██████████| 100/100 [00:02<00:00, 40.84it/s]\n",
      "100%|██████████| 81/81 [00:00<00:00, 125.79it/s]\n",
      "100%|██████████| 9/9 [00:00<00:00, 107.84it/s]\n",
      "100%|██████████| 100/100 [00:03<00:00, 29.42it/s]\n",
      "100%|██████████| 121/121 [00:00<00:00, 127.42it/s]\n",
      "100%|██████████| 11/11 [00:00<00:00, 115.82it/s]\n",
      "100%|██████████| 100/100 [00:04<00:00, 22.39it/s]\n",
      "100%|██████████| 169/169 [00:01<00:00, 126.79it/s]\n",
      "100%|██████████| 13/13 [00:00<00:00, 131.31it/s]\n",
      "100%|██████████| 100/100 [00:04<00:00, 22.18it/s]\n"
     ]
    },
    {
     "data": {
      "image/png": "[encoded data removed]",
      "text/plain": [
       "<Figure size 432x288 with 1 Axes>"
      ]
     },
     "metadata": {
      "needs_background": "light"
     },
     "output_type": "display_data"
    }
   ],
   "source": [
    "p = plotting.plot(1+0*x,(x,begin,end),show=False,label='origin_curve',legend=True,title='Plot of Piecewise Method')\n",
    "err_list = []\n",
    "for i in range(total,total+span*total,span):\n",
    "    f_result,err = loop(i)\n",
    "    err_list.append(float(err))\n",
    "    p.append(plotting.plot(f_result,(x,begin,end) ,show=False,label=str(i))[0])\n",
    "p.show()"
   ]
  },
  {
   "cell_type": "code",
   "execution_count": 10,
   "metadata": {
    "pycharm": {
     "name": "#%%\n"
    }
   },
   "outputs": [
    {
     "data": {
      "image/png": "[encoded data removed]",
      "text/plain": [
       "<Figure size 432x288 with 1 Axes>"
      ]
     },
     "metadata": {
      "needs_background": "light"
     },
     "output_type": "display_data"
    }
   ],
   "source": [
    "plt.plot(np.arange(start,start+total*span,span),err_list)\n",
    "plt.title('Error of Piecewise Method')\n",
    "plt.show()"
   ]
  }
 ],
 "metadata": {
  "kernelspec": {
   "display_name": "Python 3",
   "language": "python",
   "name": "python3"
  },
  "language_info": {
   "codemirror_mode": {
    "name": "ipython",
    "version": 3
   },
   "file_extension": ".py",
   "mimetype": "text/x-python",
   "name": "python",
   "nbconvert_exporter": "python",
   "pygments_lexer": "ipython3",
   "version": "3.8.1"
  }
 },
 "nbformat": 4,
 "nbformat_minor": 2
}
